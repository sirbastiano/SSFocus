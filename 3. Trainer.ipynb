{
 "cells": [
  {
   "cell_type": "markdown",
   "metadata": {},
   "source": [
    "# Lightning Module:"
   ]
  },
  {
   "cell_type": "code",
   "execution_count": null,
   "metadata": {},
   "outputs": [],
   "source": [
    "import zarr\n",
    "\n",
    "def read_zarr_file(file_path, array_or_group_key=None):\n",
    "    \"\"\"\n",
    "    Read and extract data from a .zarr file.\n",
    "\n",
    "    Parameters:\n",
    "    - file_path: str, the path to the .zarr file.\n",
    "    - array_or_group_key: str, optional key specifying which array or group to extract from the Zarr store.\n",
    "\n",
    "    Returns:\n",
    "    Zarr array or group, depending on what is stored in the file.\n",
    "    \"\"\"\n",
    "    # Open Zarr file\n",
    "    root = zarr.open(file_path, mode='r')\n",
    "\n",
    "    if array_or_group_key is None:\n",
    "        # Return the root group or array if no key is specified\n",
    "        return root\n",
    "    else:\n",
    "        # Otherwise, return the specified array or group\n",
    "        return root[array_or_group_key]\n",
    "\n",
    "# Usage example\n",
    "file_path = \"your_file.zarr\"\n",
    "\n",
    "# To read the root array or group\n",
    "root = read_zarr_file(file_path)\n",
    "\n",
    "# To read a specific array or group\n",
    "specific_array_or_group = read_zarr_file(file_path, \"array_or_group_key_here\")\n"
   ]
  },
  {
   "cell_type": "code",
   "execution_count": 3,
   "metadata": {},
   "outputs": [
    {
     "name": "stdout",
     "output_type": "stream",
     "text": [
      "The autoreload extension is already loaded. To reload it, use:\n",
      "  %reload_ext autoreload\n"
     ]
    }
   ],
   "source": [
    "# load autoreload:\n",
    "%load_ext autoreload\n",
    "import os\n",
    "from torch import optim, nn, utils, Tensor\n",
    "from torchvision.transforms import ToTensor\n",
    "import pytorch_lightning as pl\n",
    "import torch.nn as nn\n",
    "import torch.optim as optim\n",
    "\n",
    "\n",
    "from Models.PhiNet import PhiNet"
   ]
  },
  {
   "cell_type": "code",
   "execution_count": 2,
   "metadata": {},
   "outputs": [],
   "source": [
    "x = Tensor(1, 2, 128, 128)\n",
    "\n",
    "model = PhiNet(use_SA=False)\n",
    "y = model(x)"
   ]
  },
  {
   "cell_type": "code",
   "execution_count": null,
   "metadata": {},
   "outputs": [],
   "source": [
    "\n",
    "\n",
    "class LitModel(pl.LightningModule):\n",
    "    def __init__(self, PhiNet):\n",
    "        super().__init__()\n",
    "        self.model = PhiNet()\n",
    "\n",
    "    def forward(self, x):\n",
    "        return self.model(x)\n",
    "\n",
    "    def common_step(self, batch, batch_idx, stage=None):\n",
    "        x, y = batch\n",
    "        x = x.view(x.size(0), -1)\n",
    "        z = self.model.encoder(x)\n",
    "        x_hat = self.model.decoder(z)\n",
    "        loss = nn.functional.mse_loss(x_hat, x)\n",
    "        \n",
    "        if stage == 'train':\n",
    "            self.log(\"train_loss\", loss)\n",
    "        elif stage == 'val':\n",
    "            self.log(\"val_loss\", loss)\n",
    "        elif stage == 'test':\n",
    "            self.log(\"test_loss\", loss)\n",
    "        \n",
    "        return loss\n",
    "\n",
    "    def training_step(self, batch, batch_idx):\n",
    "        return self.common_step(batch, batch_idx, 'train')\n",
    "\n",
    "    def validation_step(self, batch, batch_idx):\n",
    "        return {\"val_loss\": self.common_step(batch, batch_idx, 'val')}\n",
    "\n",
    "    def test_step(self, batch, batch_idx):\n",
    "        return {\"test_loss\": self.common_step(batch, batch_idx, 'test')}\n",
    "\n",
    "    def validation_epoch_end(self, outputs):\n",
    "        avg_loss = torch.stack([x['val_loss'] for x in outputs]).mean()\n",
    "        self.log(\"avg_val_loss\", avg_loss)\n",
    "\n",
    "    def test_epoch_end(self, outputs):\n",
    "        avg_loss = torch.stack([x['test_loss'] for x in outputs]).mean()\n",
    "        self.log(\"avg_test_loss\", avg_loss)\n",
    "\n",
    "    def configure_optimizers(self):\n",
    "        optimizer = optim.Adam(self.parameters(), lr=1e-3)\n",
    "        return optimizer\n",
    "\n",
    "# Assuming encoder and decoder are defined\n",
    "# PhiNet should include both encoder and decoder as self.encoder and self.decoder respectively\n",
    "autoencoder = LitModel(PhiNet)\n"
   ]
  },
  {
   "cell_type": "markdown",
   "metadata": {},
   "source": [
    "# Dataloader:"
   ]
  },
  {
   "cell_type": "code",
   "execution_count": null,
   "metadata": {},
   "outputs": [],
   "source": [
    "# setup data\n",
    "dataset = MNIST(os.getcwd(), download=True, transform=ToTensor())\n",
    "train_loader = utils.data.DataLoader(dataset)"
   ]
  },
  {
   "cell_type": "markdown",
   "metadata": {},
   "source": [
    "# Trainer Fit:"
   ]
  },
  {
   "cell_type": "code",
   "execution_count": null,
   "metadata": {},
   "outputs": [],
   "source": [
    "# train the model (hint: here are some helpful Trainer arguments for rapid idea iteration)\n",
    "trainer = pl.Trainer(limit_train_batches=100, max_epochs=100)\n",
    "trainer.fit(model=autoencoder, train_dataloaders=train_loader)"
   ]
  },
  {
   "cell_type": "markdown",
   "metadata": {},
   "source": [
    "# Use the model:"
   ]
  },
  {
   "cell_type": "code",
   "execution_count": null,
   "metadata": {},
   "outputs": [],
   "source": [
    "# load checkpoint\n",
    "checkpoint = \"./lightning_logs/version_0/checkpoints/epoch=0-step=100.ckpt\"\n",
    "autoencoder = LitAutoEncoder.load_from_checkpoint(checkpoint, encoder=encoder, decoder=decoder)\n",
    "\n",
    "# choose your trained nn.Module\n",
    "encoder = autoencoder.encoder\n",
    "encoder.eval()\n",
    "\n",
    "# embed 4 fake images!\n",
    "fake_image_batch = Tensor(4, 28 * 28)\n",
    "embeddings = encoder(fake_image_batch.cuda())\n",
    "print(\"⚡\" * 20, \"\\nPredictions (4 image embeddings):\\n\", embeddings, \"\\n\", \"⚡\" * 20)"
   ]
  },
  {
   "cell_type": "code",
   "execution_count": null,
   "metadata": {},
   "outputs": [],
   "source": []
  }
 ],
 "metadata": {
  "kernelspec": {
   "display_name": "py311",
   "language": "python",
   "name": "python3"
  },
  "language_info": {
   "codemirror_mode": {
    "name": "ipython",
    "version": 3
   },
   "file_extension": ".py",
   "mimetype": "text/x-python",
   "name": "python",
   "nbconvert_exporter": "python",
   "pygments_lexer": "ipython3",
   "version": "3.11.6"
  }
 },
 "nbformat": 4,
 "nbformat_minor": 2
}
