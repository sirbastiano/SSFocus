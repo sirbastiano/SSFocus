{
 "cells": [
  {
   "cell_type": "code",
   "execution_count": 1,
   "metadata": {},
   "outputs": [],
   "source": [
    "# import deepcopy\n",
    "import os, sys\n",
    "import copy\n",
    "import numpy as np\n",
    "import pandas as pd\n",
    "from pathlib import Path\n",
    "import numpy as np"
   ]
  },
  {
   "cell_type": "code",
   "execution_count": 2,
   "metadata": {},
   "outputs": [],
   "source": [
    "folderpath = '/home/roberto/PythonProjects/SSFocus/Data/RAW/SM/numpy/'\n",
    "npyfiles = [x for x in Path(folderpath).iterdir() if x.is_file() and x.suffix == '.npy']"
   ]
  },
  {
   "cell_type": "code",
   "execution_count": 3,
   "metadata": {},
   "outputs": [],
   "source": [
    "# divide the data into 5 parts\n",
    "def get_partition(data_path: str = 'path/to/*.npy', num_chunks: int = 5, idx_chunk: int = 0):\n",
    "    \"\"\"\n",
    "    Function to get a partition of the data\n",
    "    :param data_path: path to the data\n",
    "    :param num_chunks: number of chunks\n",
    "    :param idx_chunk: index of the chunk\n",
    "    \"\"\"\n",
    "    data = np.load(data_path)\n",
    "    start = int(idx_chunk * data.shape[0] / num_chunks)\n",
    "    end = int((idx_chunk + 1) * data.shape[0] / num_chunks)\n",
    "    partition = data[start:end, :]\n",
    "    # copy partition deepcopy\n",
    "    copy_partition = copy.deepcopy(partition)\n",
    "    del partition, data\n",
    "    return copy_partition    "
   ]
  },
  {
   "cell_type": "code",
   "execution_count": 4,
   "metadata": {},
   "outputs": [],
   "source": [
    "part = get_partition(data_path=npyfiles[0], num_chunks=10, idx_chunk=0)"
   ]
  },
  {
   "cell_type": "code",
   "execution_count": 7,
   "metadata": {},
   "outputs": [
    {
     "data": {
      "text/plain": [
       "25.3"
      ]
     },
     "execution_count": 7,
     "metadata": {},
     "output_type": "execute_result"
    }
   ],
   "source": [
    "# check ram usage:\n",
    "import psutil\n",
    "psutil.virtual_memory().percent"
   ]
  },
  {
   "cell_type": "code",
   "execution_count": 6,
   "metadata": {},
   "outputs": [],
   "source": [
    "part = np.fft.fft(part, axis=1)\n",
    "part = np.fft.fftshift(np.fft.fft(part, axis=0), axes=0)"
   ]
  },
  {
   "cell_type": "code",
   "execution_count": null,
   "metadata": {},
   "outputs": [],
   "source": []
  }
 ],
 "metadata": {
  "kernelspec": {
   "display_name": "SARLens",
   "language": "python",
   "name": "python3"
  },
  "language_info": {
   "codemirror_mode": {
    "name": "ipython",
    "version": 3
   },
   "file_extension": ".py",
   "mimetype": "text/x-python",
   "name": "python",
   "nbconvert_exporter": "python",
   "pygments_lexer": "ipython3",
   "version": "3.10.10"
  },
  "orig_nbformat": 4
 },
 "nbformat": 4,
 "nbformat_minor": 2
}
