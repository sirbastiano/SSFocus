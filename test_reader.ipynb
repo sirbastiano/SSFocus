{
 "cells": [
  {
   "cell_type": "code",
   "execution_count": 1,
   "metadata": {},
   "outputs": [],
   "source": [
    "# import deepcopy\n",
    "import os, sys\n",
    "import copy\n",
    "import numpy as np\n",
    "import pandas as pd\n",
    "from pathlib import Path\n",
    "import numpy as np\n",
    "import pickle"
   ]
  },
  {
   "cell_type": "code",
   "execution_count": 2,
   "metadata": {},
   "outputs": [],
   "source": [
    "def main(idx_start):\n",
    "    folderpath = '/home/roberto/PythonProjects/SSFocus/Data/RAW/SM/numpy/'\n",
    "    outfolder = '/home/roberto/PythonProjects/SSFocus/Data/FOCUSED/'\n",
    "\n",
    "    npyfiles = [x for x in Path(folderpath).iterdir() if x.is_file() and x.suffix == '.npy']\n",
    "\n",
    "    def picklesavefile(path, datafile):\n",
    "        with open(path, 'wb') as f:\n",
    "            pickle.dump(datafile, f)\n",
    "\n",
    "\n",
    "    num_chunks = 5\n",
    "    data = np.load(npyfiles[0])\n",
    "    for idx_chunk in range(idx_start, num_chunks, 1):\n",
    "        start = int(idx_chunk * data.shape[0] / num_chunks)\n",
    "        end = int((idx_chunk + 1) * data.shape[0] / num_chunks)\n",
    "        partition = data[start:end, :]\n",
    "        picklesavefile(outfolder+'datafile_{}.pkl'.format(idx_chunk), partition)\n",
    "        print('Saved datafile_{}.pkl'.format(idx_chunk))\n",
    "        return True"
   ]
  },
  {
   "cell_type": "code",
   "execution_count": 3,
   "metadata": {},
   "outputs": [
    {
     "ename": "",
     "evalue": "",
     "output_type": "error",
     "traceback": [
      "\u001b[1;31mSi è verificato un arresto anomalo del kernel durante l'esecuzione del codice nella cella attiva o in una cella precedente. Esaminare il codice nelle celle per identificare una possibile causa dell'errore. Per altre informazioni, fare clic su <a href='https://aka.ms/vscodeJupyterKernelCrash'>here</a>. Per altri dettagli, vedere Jupyter <a href='command:jupyter.viewOutput'>log</a>."
     ]
    }
   ],
   "source": [
    "for idx_start in range(0, 5, 1):\n",
    "    try:\n",
    "        main(idx_start)\n",
    "    except:\n",
    "        print('Error in idx_start {}'.format(idx_start))\n",
    "        continue"
   ]
  }
 ],
 "metadata": {
  "kernelspec": {
   "display_name": "SARLens",
   "language": "python",
   "name": "python3"
  },
  "language_info": {
   "codemirror_mode": {
    "name": "ipython",
    "version": 3
   },
   "file_extension": ".py",
   "mimetype": "text/x-python",
   "name": "python",
   "nbconvert_exporter": "python",
   "pygments_lexer": "ipython3",
   "version": "3.10.10"
  },
  "orig_nbformat": 4
 },
 "nbformat": 4,
 "nbformat_minor": 2
}
