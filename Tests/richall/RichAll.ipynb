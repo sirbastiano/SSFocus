{
 "cells": [
  {
   "cell_type": "code",
   "execution_count": null,
   "metadata": {},
   "outputs": [],
   "source": [
    "import sentinel1decoder\n",
    "import pandas as pd\n",
    "import numpy as np\n",
    "import logging\n",
    "import math\n",
    "import cmath\n",
    "import struct\n",
    "import matplotlib.pyplot as plt\n",
    "from matplotlib import colors\n",
    "from scipy.interpolate import interp1d\n",
    "from skimage.transform import rescale, resize, downscale_local_mean\n",
    "import os\n",
    "import pickle\n",
    "from pathlib import Path\n",
    "\n",
    "def picklesaver(outputfile, path):\n",
    "    \"\"\"\n",
    "    Save a Python object as a pickle file.\n",
    "    \"\"\"\n",
    "    with open(outputfile, 'wb') as f:\n",
    "        pickle.dump(path, f)\n"
   ]
  },
  {
   "cell_type": "code",
   "execution_count": null,
   "metadata": {},
   "outputs": [],
   "source": [
    "filename = \"/Users/robertodelprete/Desktop/PyScripts/SARLens/SSFocus/Data/RAW/DAT/s1a-s1-raw-s-vv-20200310t183209-20200310t183239-031617-03a4c7.dat\"\n",
    "inputfile = filename\n",
    "\n",
    "out_base = '/Users/robertodelprete/Desktop/PyScripts/SARLens/SSFocus/Data/RAW/NUMPY'\n",
    "out_folder = os.path.join(out_base, Path(filename).stem)\n",
    "os.makedirs(out_folder, exist_ok=True)\n",
    "\n",
    "l0file = sentinel1decoder.Level0File(inputfile)\n",
    "l0file.packet_metadata.to_pickle(os.path.join(out_folder, 'meta.pkl'))\n",
    "l0file.ephemeris.to_pickle(os.path.join(out_folder, 'ephemeris.pkl'))\n",
    "\n",
    "selected_burst = 8\n",
    "selection = l0file.get_burst_metadata(selected_burst)\n",
    "radar_data = l0file.get_burst_data(selected_burst)\n",
    "shape = radar_data.shape\n",
    "L0_name = os.path.splitext(filename)[0]\n",
    "print(L0_name)\n",
    "n = len(radar_data)\n",
    "num_chunks = 10\n",
    "chunk_size = n // num_chunks\n",
    "for i in range(num_chunks):\n",
    "    chunk = radar_data[i*chunk_size:(i+1)*chunk_size]\n",
    "    outpath = os.path.join(out_folder, f'{shape}_{L0_name}_chunk_{i+1}.pkl')\n",
    "    picklesaver(outpath, chunk)"
   ]
  },
  {
   "cell_type": "code",
   "execution_count": null,
   "metadata": {},
   "outputs": [],
   "source": [
    "# Plot the raw IQ data extracted from the data file\n",
    "plt.figure(figsize=(12, 12))\n",
    "plt.title(\"Sentinel-1 Raw I/Q Sensor Output\")\n",
    "plt.imshow(abs(radar_data[:,:]), vmin=0, vmax=15, origin='lower')\n",
    "plt.xlabel(\"Fast Time (down range)\")\n",
    "plt.ylabel(\"Slow Time (cross range)\")\n",
    "plt.show()\n"
   ]
  },
  {
   "cell_type": "code",
   "execution_count": null,
   "metadata": {},
   "outputs": [],
   "source": [
    "\n",
    "\n",
    "L0 = radar_data\n",
    "img_all = L0"
   ]
  },
  {
   "cell_type": "code",
   "execution_count": null,
   "metadata": {},
   "outputs": [],
   "source": [
    "resize_shape = 1024\n",
    "img_all = img_all[:20000, :20000]\n",
    "img = np.zeros((2, resize_shape, resize_shape))\n",
    "img[0, :, :] = resize(img_all.real, output_shape = (resize_shape, resize_shape)).astype(np.float32)\n",
    "img[1, :, :] = resize(img_all.imag, output_shape = (resize_shape, resize_shape)).astype(np.float32)\n",
    "img[0, :, :]  = (img[0, :, :] - img[0, :, :].mean())/img[0, :, :].std()\n",
    "img[1, :, :]  = (img[1, :, :] - img[1, :, :].mean())/img[1, :, :].std()"
   ]
  },
  {
   "cell_type": "code",
   "execution_count": null,
   "metadata": {},
   "outputs": [],
   "source": [
    "fin = img[0,:,:] + 1j * img[1,:,:]\n",
    "fin.dtype"
   ]
  },
  {
   "cell_type": "code",
   "execution_count": null,
   "metadata": {},
   "outputs": [],
   "source": [
    "fin.shape"
   ]
  },
  {
   "cell_type": "code",
   "execution_count": null,
   "metadata": {},
   "outputs": [],
   "source": [
    "plt.figure(figsize=(12, 12))\n",
    "plt.title(\"Sentinel-1 Raw I/Q Sensor Output\")\n",
    "plt.imshow(abs(fin[:,:]), vmin=0, vmax=15, origin='lower')\n",
    "plt.xlabel(\"Fast Time (down range)\")\n",
    "plt.ylabel(\"Slow Time (cross range)\")\n",
    "plt.show()"
   ]
  },
  {
   "cell_type": "code",
   "execution_count": null,
   "metadata": {},
   "outputs": [],
   "source": [
    "# Image sizes\n",
    "len_range_line = radar_data.shape[1]\n",
    "len_az_line = radar_data.shape[0]\n",
    "\n",
    "# Tx pulse parameters\n",
    "c = sentinel1decoder.constants.SPEED_OF_LIGHT_MPS\n",
    "RGDEC = selection[\"Range Decimation\"].unique()[0]\n",
    "PRI = selection[\"PRI\"].unique()[0]\n",
    "rank = selection[\"Rank\"].unique()[0]\n",
    "suppressed_data_time = 320/(8*sentinel1decoder.constants.F_REF)\n",
    "range_start_time = selection[\"SWST\"].unique()[0] + suppressed_data_time\n",
    "wavelength = sentinel1decoder.constants.TX_WAVELENGTH_M\n",
    "\n",
    "# Sample rates\n",
    "range_sample_freq = sentinel1decoder.utilities.range_dec_to_sample_rate(RGDEC)\n",
    "range_sample_period = 1/range_sample_freq\n",
    "az_sample_freq = 1 / PRI\n",
    "az_sample_period = PRI\n",
    "\n",
    "# Fast time vector - defines the time axis along the fast time direction\n",
    "sample_num_along_range_line = np.arange(0, len_range_line, 1)\n",
    "fast_time_vec = range_start_time + (range_sample_period * sample_num_along_range_line)\n",
    "\n",
    "# Slant range vector - defines R0, the range of closest approach, for each range cell\n",
    "slant_range_vec = ((rank * PRI) + fast_time_vec) * c/2\n",
    "    \n",
    "# Axes - defines the frequency axes in each direction after FFT\n",
    "SWL = len_range_line/range_sample_freq\n",
    "az_freq_vals = np.arange(-az_sample_freq/2, az_sample_freq/2, 1/(PRI*len_az_line))\n",
    "range_freq_vals = np.arange(-range_sample_freq/2, range_sample_freq/2, 1/SWL)\n",
    " \n",
    "# Spacecraft velocity - numerical calculation of the effective spacecraft velocity\n",
    "ecef_vels = l0file.ephemeris.apply(lambda x: math.sqrt(x[\"X-axis velocity ECEF\"]**2 + x[\"Y-axis velocity ECEF\"]**2 +x[\"Z-axis velocity ECEF\"]**2), axis=1)\n",
    "velocity_interp = interp1d(l0file.ephemeris[\"POD Solution Data Timestamp\"].unique(), ecef_vels.unique(), fill_value=\"extrapolate\")\n",
    "x_interp = interp1d(l0file.ephemeris[\"POD Solution Data Timestamp\"].unique(), l0file.ephemeris[\"X-axis position ECEF\"].unique(), fill_value=\"extrapolate\")\n",
    "y_interp = interp1d(l0file.ephemeris[\"POD Solution Data Timestamp\"].unique(), l0file.ephemeris[\"Y-axis position ECEF\"].unique(), fill_value=\"extrapolate\")\n",
    "z_interp = interp1d(l0file.ephemeris[\"POD Solution Data Timestamp\"].unique(), l0file.ephemeris[\"Z-axis position ECEF\"].unique(), fill_value=\"extrapolate\")\n",
    "space_velocities = selection.apply(lambda x: velocity_interp(x[\"Coarse Time\"] + x[\"Fine Time\"]), axis=1).to_numpy().astype(float)\n",
    "\n",
    "x_positions = selection.apply(lambda x: x_interp(x[\"Coarse Time\"] + x[\"Fine Time\"]), axis=1).to_numpy().astype(float)\n",
    "y_positions = selection.apply(lambda x: y_interp(x[\"Coarse Time\"] + x[\"Fine Time\"]), axis=1).to_numpy().astype(float)\n",
    "z_positions = selection.apply(lambda x: z_interp(x[\"Coarse Time\"] + x[\"Fine Time\"]), axis=1).to_numpy().astype(float)\n",
    "\n",
    "position_array = np.transpose(np.vstack((x_positions, y_positions, z_positions)))\n",
    "\n",
    "a = sentinel1decoder.constants.WGS84_SEMI_MAJOR_AXIS_M\n",
    "b = sentinel1decoder.constants.WGS84_SEMI_MINOR_AXIS_M\n",
    "H = np.linalg.norm(position_array, axis=1)\n",
    "W = np.divide(space_velocities, H)\n",
    "lat = np.arctan(np.divide(position_array[:, 2], position_array[:, 0]))\n",
    "local_earth_rad = np.sqrt(\n",
    "    np.divide(\n",
    "        (np.square(a**2 * np.cos(lat)) + np.square(b**2 * np.sin(lat))),\n",
    "        (np.square(a * np.cos(lat)) + np.square(b * np.sin(lat)))\n",
    "    )\n",
    ")\n",
    "cos_beta = (np.divide(np.square(local_earth_rad) + np.square(H) - np.square(slant_range_vec[:, np.newaxis]) , 2 * local_earth_rad * H))\n",
    "ground_velocities = local_earth_rad * W * cos_beta\n",
    "\n",
    "effective_velocities = np.sqrt(space_velocities * ground_velocities)\n",
    "\n",
    "D = np.sqrt(\n",
    "    1 - np.divide(\n",
    "        wavelength**2 * np.square(az_freq_vals),\n",
    "        4 * np.square(effective_velocities)\n",
    "    )\n",
    ").T\n",
    "\n",
    "# We're only interested in keeping D, so free up some memory by deleting these large arrays.\n",
    "del effective_velocities\n",
    "del ground_velocities\n",
    "del cos_beta\n",
    "del local_earth_rad\n",
    "del H\n",
    "del W\n",
    "del lat"
   ]
  },
  {
   "cell_type": "code",
   "execution_count": null,
   "metadata": {},
   "outputs": [],
   "source": [
    "\n",
    "\n",
    "# FFT each range line\n",
    "radar_data = np.fft.fft(radar_data, axis=1)\n",
    "\n",
    "# FFT each azimuth line\n",
    "radar_data = np.fft.fftshift(np.fft.fft(radar_data, axis=0), axes=0)\n",
    "\n"
   ]
  },
  {
   "cell_type": "code",
   "execution_count": null,
   "metadata": {},
   "outputs": [],
   "source": [
    "# Create replica pulse\n",
    "TXPSF = selection[\"Tx Pulse Start Frequency\"].unique()[0]\n",
    "TXPRR = selection[\"Tx Ramp Rate\"].unique()[0]\n",
    "TXPL = selection[\"Tx Pulse Length\"].unique()[0]\n",
    "num_tx_vals = int(TXPL*range_sample_freq)\n",
    "tx_replica_time_vals = np.linspace(-TXPL/2, TXPL/2, num=num_tx_vals)\n",
    "phi1 = TXPSF + TXPRR*TXPL/2\n",
    "phi2 = TXPRR/2\n",
    "tx_replica = np.exp(2j * np.pi * (phi1*tx_replica_time_vals + phi2*tx_replica_time_vals**2))\n",
    "\n",
    "# Create range filter from replica pulse\n",
    "range_filter = np.zeros(len_range_line, dtype=complex)\n",
    "index_start = np.ceil((len_range_line-num_tx_vals)/2)-1\n",
    "index_end = num_tx_vals+np.ceil((len_range_line-num_tx_vals)/2)-2\n",
    "range_filter[int(index_start):int(index_end+1)] = tx_replica\n",
    "range_filter = np.conjugate(np.fft.fft(range_filter))\n",
    "\n",
    "# Apply filter\n",
    "radar_data = np.multiply(radar_data, range_filter)\n",
    "\n",
    "del range_filter\n",
    "del tx_replica\n"
   ]
  },
  {
   "cell_type": "code",
   "execution_count": null,
   "metadata": {},
   "outputs": [],
   "source": [
    "\n",
    "\n",
    "# Create RCMC filter\n",
    "range_freq_vals = np.linspace(-range_sample_freq/2, range_sample_freq/2, num=len_range_line)\n",
    "rcmc_shift = slant_range_vec[0] * (np.divide(1, D) - 1)\n",
    "rcmc_filter = np.exp(4j * np.pi * range_freq_vals * rcmc_shift / c)\n",
    "\n",
    "# Apply filter\n",
    "radar_data = np.multiply(radar_data, rcmc_filter)\n",
    "\n",
    "del rcmc_shift\n",
    "del rcmc_filter\n",
    "del range_freq_vals\n",
    "\n"
   ]
  },
  {
   "cell_type": "code",
   "execution_count": null,
   "metadata": {},
   "outputs": [],
   "source": [
    "radar_data = np.fft.ifftshift(np.fft.ifft(radar_data, axis=1), axes=1)"
   ]
  },
  {
   "cell_type": "code",
   "execution_count": null,
   "metadata": {},
   "outputs": [],
   "source": [
    "# Create filter\n",
    "az_filter = np.exp(4j * np.pi * slant_range_vec * D / wavelength)\n",
    "\n",
    "# Apply filter\n",
    "radar_data = np.multiply(radar_data, az_filter)\n",
    "\n",
    "del az_filter"
   ]
  },
  {
   "cell_type": "code",
   "execution_count": null,
   "metadata": {},
   "outputs": [],
   "source": [
    "radar_data = np.fft.ifft(radar_data, axis=0)"
   ]
  },
  {
   "cell_type": "code",
   "execution_count": null,
   "metadata": {},
   "outputs": [],
   "source": [
    "L1_name = os.path.splitext(filename)[0] + f'_L1' + f'.npy'\n",
    "np.save(os.path.join('', L1_name), radar_data)"
   ]
  },
  {
   "cell_type": "code",
   "execution_count": null,
   "metadata": {},
   "outputs": [],
   "source": [
    "# Plot final image\n",
    "plt.figure(figsize=(12, 12))\n",
    "plt.title(\"Sentinel-1 Processed SAR Image\")\n",
    "#plt.imshow(abs(radar_data[:,:]), vmin=0, vmax=2000, origin='lower')\n",
    "plt.imshow(abs(radar_data), origin='lower', norm=colors.LogNorm(vmin=300, vmax=10000))\n",
    "plt.xlabel(\"Down Range (samples)\")\n",
    "plt.ylabel(\"Cross Range (samples)\")\n",
    "plt.show()"
   ]
  },
  {
   "cell_type": "code",
   "execution_count": null,
   "metadata": {},
   "outputs": [],
   "source": []
  }
 ],
 "metadata": {
  "kernelspec": {
   "display_name": "Python 3 (ipykernel)",
   "language": "python",
   "name": "python3"
  },
  "language_info": {
   "codemirror_mode": {
    "name": "ipython",
    "version": 3
   },
   "file_extension": ".py",
   "mimetype": "text/x-python",
   "name": "python",
   "nbconvert_exporter": "python",
   "pygments_lexer": "ipython3",
   "version": "3.10.10"
  },
  "orig_nbformat": 4,
  "vscode": {
   "interpreter": {
    "hash": "1b9c2b33ab80f2e084c88ce3a83a24c95a60785224001de7b1d40c4a839a342b"
   }
  }
 },
 "nbformat": 4,
 "nbformat_minor": 2
}
