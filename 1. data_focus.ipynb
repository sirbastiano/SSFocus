{
 "cells": [
  {
   "cell_type": "code",
   "execution_count": 1,
   "metadata": {},
   "outputs": [],
   "source": [
    "import sentinel1decoder\n",
    "import pandas as pd\n",
    "import numpy as np\n",
    "import logging\n",
    "import math\n",
    "import cmath\n",
    "import struct\n",
    "import matplotlib.pyplot as plt\n",
    "from matplotlib import colors\n",
    "from scipy.interpolate import interp1d\n",
    "import os\n",
    "import pickle\n",
    "from pathlib import Path\n",
    "\n",
    "\n",
    "def find_dat_file(folder_directory):\n",
    "    \"\"\"\n",
    "    Finds the dat file in the folder_directory\n",
    "    \"\"\"\n",
    "    x = [x for x in Path(folder_directory).iterdir() if x.is_file() and x.name.endswith('.dat')]\n",
    "    assert len(x) > 0, 'No dat files found.'\n",
    "    x = [y for y in x if 'annot' not in y.stem]\n",
    "    x = [y for y in x if 'index' not in y.stem]\n",
    "    return x[0].as_posix()"
   ]
  },
  {
   "cell_type": "markdown",
   "metadata": {},
   "source": [
    "# Decode"
   ]
  },
  {
   "cell_type": "code",
   "execution_count": null,
   "metadata": {},
   "outputs": [],
   "source": [
    "raw_dir = '/media/warmachine/DBDISK/SSFocus/data/Processed/Houston/S1B_S6_RAW__0SDH_20210110T002606_20210110T002632_025085_02FC6A_2652.SAFE'\n",
    "\n",
    "inputfile = find_dat_file(raw_dir)\n",
    "print('Input:', inputfile)\n",
    "l0file = sentinel1decoder.Level0File(inputfile)\n",
    "\n",
    "total_meta = l0file.packet_metadata\n",
    "ephemeris = l0file.ephemeris\n",
    "\n",
    "# radar_data = raw_data['echo']\n",
    "last_az_idx = total_meta.index.to_flat_index()[-1][0]\n",
    "tot = total_meta.shape[0]"
   ]
  },
  {
   "cell_type": "code",
   "execution_count": null,
   "metadata": {},
   "outputs": [],
   "source": [
    "for i in range(last_az_idx):\n",
    "    selected_burst = i+1\n",
    "    meta = l0file.get_burst_metadata(selected_burst)\n",
    "    print(i+1, meta.shape[0], (meta.shape[0]/tot*100))\n"
   ]
  },
  {
   "cell_type": "code",
   "execution_count": null,
   "metadata": {},
   "outputs": [],
   "source": [
    "selected_burst = 8\n",
    "meta = l0file.get_burst_metadata(selected_burst)\n",
    "ephemeris = l0file.ephemeris\n",
    "echo = l0file.get_burst_data(selected_burst)\n",
    "\n",
    "raw_data =  {'metadata':meta, 'ephemeris':ephemeris, 'echo':echo}\n",
    "radar_data = raw_data['echo']\n"
   ]
  },
  {
   "cell_type": "code",
   "execution_count": null,
   "metadata": {},
   "outputs": [],
   "source": [
    "plt.figure(figsize=(12, 12))\n",
    "plt.title(\"Sentinel-1 Raw I/Q Sensor Output\")\n",
    "plt.imshow(abs(radar_data[:,:]), origin='lower', vmin=0, vmax=15)\n",
    "plt.xlabel(\"Fast Time (down range)\")\n",
    "plt.ylabel(\"Slow Time (cross range)\")\n",
    "plt.show()"
   ]
  },
  {
   "cell_type": "markdown",
   "metadata": {},
   "source": [
    "## save raw data"
   ]
  },
  {
   "cell_type": "code",
   "execution_count": null,
   "metadata": {},
   "outputs": [],
   "source": [
    "ID = 'Houston'\n",
    "output = '/media/warmachine/DBDISK/SSFocus/data/Processed/' + ID + f'/raw_{Path(inputfile).stem}.pkl'\n",
    "# save dictionary to person_data.pkl file\n",
    "with open(output, 'wb') as fp:\n",
    "    pickle.dump(raw_data, fp)\n",
    "    print('dictionary saved successfully to file')"
   ]
  },
  {
   "cell_type": "markdown",
   "metadata": {},
   "source": [
    "# focus raw data"
   ]
  },
  {
   "cell_type": "code",
   "execution_count": null,
   "metadata": {},
   "outputs": [],
   "source": [
    "raw_data =  {'metadata':meta, 'ephemeris':ephemeris, 'echo':echo}\n"
   ]
  },
  {
   "cell_type": "code",
   "execution_count": null,
   "metadata": {},
   "outputs": [],
   "source": [
    "def focus(raw_data):\n",
    "    radar_data = raw_data['echo']\n",
    "    meta = raw_data['metadata']\n",
    "    ephemeris = raw_data['ephemeris']\n",
    "    \n",
    "    len_range_line = radar_data.shape[1]\n",
    "    len_az_line = radar_data.shape[0]\n",
    "\n",
    "    # Tx pulse parameters\n",
    "    c = sentinel1decoder.constants.SPEED_OF_LIGHT_MPS\n",
    "    RGDEC = meta[\"Range Decimation\"].unique()[0]\n",
    "    PRI = meta[\"PRI\"].unique()[0]\n",
    "    rank = meta[\"Rank\"].unique()[0]\n",
    "    suppressed_data_time = 320/(8*sentinel1decoder.constants.F_REF)\n",
    "    range_start_time = meta[\"SWST\"].unique()[0] + suppressed_data_time\n",
    "    wavelength = sentinel1decoder.constants.TX_WAVELENGTH_M\n",
    "\n",
    "    # Sample rates\n",
    "    range_sample_freq = sentinel1decoder.utilities.range_dec_to_sample_rate(RGDEC)\n",
    "    range_sample_period = 1/range_sample_freq\n",
    "    az_sample_freq = 1 / PRI\n",
    "    az_sample_period = PRI\n",
    "\n",
    "    # Fast time vector - defines the time axis along the fast time direction\n",
    "    sample_num_along_range_line = np.arange(0, len_range_line, 1)\n",
    "    fast_time_vec = range_start_time + (range_sample_period * sample_num_along_range_line)\n",
    "\n",
    "    # Slant range vector - defines R0, the range of closest approach, for each range cell\n",
    "    slant_range_vec = ((rank * PRI) + fast_time_vec) * c/2\n",
    "        \n",
    "    # Axes - defines the frequency axes in each direction after FFT\n",
    "    SWL = len_range_line/range_sample_freq\n",
    "    az_freq_vals = np.arange(-az_sample_freq/2, az_sample_freq/2, 1/(PRI*len_az_line))\n",
    "    range_freq_vals = np.arange(-range_sample_freq/2, range_sample_freq/2, 1/SWL)\n",
    "    \n",
    "    # Spacecraft velocity - numerical calculation of the effective spacecraft velocity\n",
    "    ecef_vels = ephemeris.apply(lambda x: math.sqrt(x[\"X-axis velocity ECEF\"]**2 + x[\"Y-axis velocity ECEF\"]**2 +x[\"Z-axis velocity ECEF\"]**2), axis=1)\n",
    "    velocity_interp = interp1d(ephemeris[\"POD Solution Data Timestamp\"].unique(), ecef_vels.unique(), fill_value=\"extrapolate\")\n",
    "    x_interp = interp1d(ephemeris[\"POD Solution Data Timestamp\"].unique(), ephemeris[\"X-axis position ECEF\"].unique(), fill_value=\"extrapolate\")\n",
    "    y_interp = interp1d(ephemeris[\"POD Solution Data Timestamp\"].unique(), ephemeris[\"Y-axis position ECEF\"].unique(), fill_value=\"extrapolate\")\n",
    "    z_interp = interp1d(ephemeris[\"POD Solution Data Timestamp\"].unique(), ephemeris[\"Z-axis position ECEF\"].unique(), fill_value=\"extrapolate\")\n",
    "    space_velocities = meta.apply(lambda x: velocity_interp(x[\"Coarse Time\"] + x[\"Fine Time\"]), axis=1).to_numpy().astype(float)\n",
    "\n",
    "    x_positions = meta.apply(lambda x: x_interp(x[\"Coarse Time\"] + x[\"Fine Time\"]), axis=1).to_numpy().astype(float)\n",
    "    y_positions = meta.apply(lambda x: y_interp(x[\"Coarse Time\"] + x[\"Fine Time\"]), axis=1).to_numpy().astype(float)\n",
    "    z_positions = meta.apply(lambda x: z_interp(x[\"Coarse Time\"] + x[\"Fine Time\"]), axis=1).to_numpy().astype(float)\n",
    "\n",
    "    position_array = np.transpose(np.vstack((x_positions, y_positions, z_positions)))\n",
    "\n",
    "    a = sentinel1decoder.constants.WGS84_SEMI_MAJOR_AXIS_M\n",
    "    b = sentinel1decoder.constants.WGS84_SEMI_MINOR_AXIS_M\n",
    "    H = np.linalg.norm(position_array, axis=1)\n",
    "    W = np.divide(space_velocities, H)\n",
    "    lat = np.arctan(np.divide(position_array[:, 2], position_array[:, 0]))\n",
    "    local_earth_rad = np.sqrt(\n",
    "        np.divide(\n",
    "            (np.square(a**2 * np.cos(lat)) + np.square(b**2 * np.sin(lat))),\n",
    "            (np.square(a * np.cos(lat)) + np.square(b * np.sin(lat)))\n",
    "        )\n",
    "    )\n",
    "    cos_beta = (np.divide(np.square(local_earth_rad) + np.square(H) - np.square(slant_range_vec[:, np.newaxis]) , 2 * local_earth_rad * H))\n",
    "    ground_velocities = local_earth_rad * W * cos_beta\n",
    "\n",
    "    effective_velocities = np.sqrt(space_velocities * ground_velocities)\n",
    "\n",
    "    D = np.sqrt(\n",
    "        1 - np.divide(\n",
    "            wavelength**2 * np.square(az_freq_vals),\n",
    "            4 * np.square(effective_velocities)\n",
    "        )\n",
    "    ).T\n",
    "\n",
    "    # We're only interested in keeping D, so free up some memory by deleting these large arrays.\n",
    "    del effective_velocities\n",
    "    del ground_velocities\n",
    "    del cos_beta\n",
    "    del local_earth_rad\n",
    "    del H\n",
    "    del W\n",
    "    del lat\n",
    "    # FFT each range line\n",
    "    radar_data = np.fft.fft(radar_data, axis=1)\n",
    "\n",
    "    # FFT each azimuth line\n",
    "    radar_data = np.fft.fftshift(np.fft.fft(radar_data, axis=0), axes=0)\n",
    "    # Create replica pulse\n",
    "    TXPSF = meta[\"Tx Pulse Start Frequency\"].unique()[0]\n",
    "    TXPRR = meta[\"Tx Ramp Rate\"].unique()[0]\n",
    "    TXPL = meta[\"Tx Pulse Length\"].unique()[0]\n",
    "    num_tx_vals = int(TXPL*range_sample_freq)\n",
    "    tx_replica_time_vals = np.linspace(-TXPL/2, TXPL/2, num=num_tx_vals)\n",
    "    phi1 = TXPSF + TXPRR*TXPL/2\n",
    "    phi2 = TXPRR/2\n",
    "    tx_replica = np.exp(2j * np.pi * (phi1*tx_replica_time_vals + phi2*tx_replica_time_vals**2))\n",
    "\n",
    "    # Create range filter from replica pulse\n",
    "    range_filter = np.zeros(len_range_line, dtype=complex)\n",
    "    index_start = np.ceil((len_range_line-num_tx_vals)/2)-1\n",
    "    index_end = num_tx_vals+np.ceil((len_range_line-num_tx_vals)/2)-2\n",
    "    range_filter[int(index_start):int(index_end+1)] = tx_replica\n",
    "    range_filter = np.conjugate(np.fft.fft(range_filter))\n",
    "\n",
    "    # Apply filter\n",
    "    radar_data = np.multiply(radar_data, range_filter)\n",
    "\n",
    "    del range_filter\n",
    "    del tx_replica\n",
    "\n",
    "    # Create RCMC filter\n",
    "    range_freq_vals = np.linspace(-range_sample_freq/2, range_sample_freq/2, num=len_range_line)\n",
    "    rcmc_shift = slant_range_vec[0] * (np.divide(1, D) - 1)\n",
    "    rcmc_filter = np.exp(4j * np.pi * range_freq_vals * rcmc_shift / c)\n",
    "\n",
    "    # Apply filter\n",
    "    radar_data = np.multiply(radar_data, rcmc_filter)\n",
    "\n",
    "    del rcmc_shift\n",
    "    del rcmc_filter\n",
    "    del range_freq_vals\n",
    "    radar_data = np.fft.ifftshift(np.fft.ifft(radar_data, axis=1), axes=1)\n",
    "    # Create filter\n",
    "    az_filter = np.exp(4j * np.pi * slant_range_vec * D / wavelength)\n",
    "\n",
    "    # Apply filter\n",
    "    radar_data = np.multiply(radar_data, az_filter)\n",
    "\n",
    "    del az_filter\n",
    "\n",
    "    radar_data = np.fft.ifft(radar_data, axis=0)\n",
    "    return radar_data"
   ]
  },
  {
   "cell_type": "code",
   "execution_count": null,
   "metadata": {},
   "outputs": [],
   "source": [
    "focused = focus(raw_data)"
   ]
  },
  {
   "cell_type": "code",
   "execution_count": null,
   "metadata": {},
   "outputs": [],
   "source": [
    "output = '/media/warmachine/DBDISK/SSFocus/data/Processed/'+ ID + f'/focused_{Path(inputfile).stem}.pkl'\n",
    "with open(output, 'wb') as fp:\n",
    "    pickle.dump(focused, fp)\n",
    "    print('dictionary saved successfully to file')"
   ]
  },
  {
   "cell_type": "markdown",
   "metadata": {},
   "source": [
    "## Plot raw data"
   ]
  },
  {
   "cell_type": "code",
   "execution_count": null,
   "metadata": {},
   "outputs": [],
   "source": [
    "plt.figure(figsize=(16, 16))\n",
    "plt.title(\"Sentinel-1 Raw I/Q Sensor Output\")\n",
    "raw_data_mean = np.mean(abs(focused))\n",
    "raw_data_std = np.std(abs(focused))\n",
    "raw_data_max = np.max(abs(focused))\n",
    "plt.imshow(abs(focused[:,:]), origin='lower', vmin=raw_data_mean-raw_data_std*0.5, vmax=raw_data_mean+raw_data_std*3)\n",
    "plt.xlabel(\"Fast Time (down range)\")\n",
    "plt.ylabel(\"Slow Time (cross range)\")\n",
    "plt.show()"
   ]
  }
 ],
 "metadata": {
  "kernelspec": {
   "display_name": "py311",
   "language": "python",
   "name": "python3"
  },
  "language_info": {
   "codemirror_mode": {
    "name": "ipython",
    "version": 3
   },
   "file_extension": ".py",
   "mimetype": "text/x-python",
   "name": "python",
   "nbconvert_exporter": "python",
   "pygments_lexer": "ipython3",
   "version": "3.9.18"
  }
 },
 "nbformat": 4,
 "nbformat_minor": 2
}
