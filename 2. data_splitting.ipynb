{
 "cells": [
  {
   "cell_type": "code",
   "execution_count": 1,
   "metadata": {},
   "outputs": [],
   "source": [
    "import pickle\n",
    "import numpy as np\n",
    "import zarr\n",
    "from pathlib import Path\n",
    "\n",
    "def partition_sliding_window(data, window_size, stride):\n",
    "    \"\"\"\n",
    "    Partition the input data using a sliding window approach.\n",
    "    \n",
    "    Args:\n",
    "    - data (numpy.ndarray): A numpy array of shape (H, W).\n",
    "    - window_size (tuple): A tuple of two integers, the size of the sliding window.\n",
    "    - stride (tuple): A tuple of two integers, the stride of the sliding window.\n",
    "    \n",
    "    Returns:\n",
    "    - List[numpy.ndarray]: A list of numpy arrays, each of shape (window_size[0], window_size[1]).\n",
    "    \"\"\"\n",
    "    # Validate inputs\n",
    "    if not isinstance(data, np.ndarray):\n",
    "        raise TypeError(\"Input data must be a numpy array\")\n",
    "        \n",
    "    if len(data.shape) != 2:\n",
    "        raise ValueError(\"Input data must be of shape (H, W)\")\n",
    "        \n",
    "    if len(window_size) != 2 or len(stride) != 2:\n",
    "        raise ValueError(\"window_size and stride must be tuples of length 2\")\n",
    "        \n",
    "    H, W = data.shape\n",
    "    h, w = window_size\n",
    "    h_stride, w_stride = stride\n",
    "    \n",
    "    # Validate window_size and stride\n",
    "    if h > H or w > W:\n",
    "        raise ValueError(\"Window size must be smaller than the input dimensions\")\n",
    "    \n",
    "    if h_stride <= 0 or w_stride <= 0:\n",
    "        raise ValueError(\"Stride values must be greater than zero\")\n",
    "    \n",
    "    # Initialize partitions list\n",
    "    partitions = []\n",
    "    \n",
    "    # Loop through data and populate partitions\n",
    "    for i in range(0, H - h + 1, h_stride):\n",
    "        for j in range(0, W - w + 1, w_stride):\n",
    "            partition = data[i:i+h, j:j+w]\n",
    "            partitions.append(partition)\n",
    "            \n",
    "    return partitions\n"
   ]
  },
  {
   "cell_type": "code",
   "execution_count": 3,
   "metadata": {},
   "outputs": [
    {
     "name": "stdout",
     "output_type": "stream",
     "text": [
      "5\n",
      "Number of Focus partitions:  40\n",
      "Number of Raw partitions:  40\n",
      "Number of Focus partitions:  45\n",
      "Number of Raw partitions:  45\n",
      "Number of Focus partitions:  28\n",
      "Number of Raw partitions:  28\n",
      "Number of Focus partitions:  35\n",
      "Number of Raw partitions:  35\n",
      "Number of Focus partitions:  54\n",
      "Number of Raw partitions:  54\n"
     ]
    }
   ],
   "source": [
    "import zarr\n",
    "\n",
    "raw_files_list = [x for x in Path('data/Processed/').glob('**/*.pkl') if 'focus' not in str(x)]\n",
    "print(len(raw_files_list))\n",
    "\n",
    "# Open or create a Zarr group\n",
    "root = zarr.open_group('R2F.zarr', mode='a')\n",
    "\n",
    "# Check if datasets already exist, if not, create them\n",
    "if 'raw' not in root:\n",
    "    # Create an empty dataset for 'raw' and resize it later\n",
    "    raw_ds = root.zeros('raw', shape=(0, 4096, 4096), chunks=(1, 4096, 4096), dtype='complex64')\n",
    "else:\n",
    "    raw_ds = root['raw']\n",
    "\n",
    "if 'gt' not in root:\n",
    "    focus_ds = root.zeros('gt', shape=(0, 4096, 4096), chunks=(1, 4096, 4096), dtype='complex64')\n",
    "else:\n",
    "    focus_ds = root['gt']\n",
    "\n",
    "for r in raw_files_list:\n",
    "    data_raw = pickle.load(open(r, 'rb'))\n",
    "    data_focus = pickle.load(open(r.parent / ('focused_' + r.name), 'rb'))\n",
    "    assert data_focus.shape == data_raw['echo'].shape, 'Shapes of data_focus and data_raw are not equal'\n",
    "\n",
    "    focus_partitions = partition_sliding_window(data_focus, (4096, 4096), (4096, 4096))\n",
    "    print('Number of Focus partitions: ', len(focus_partitions))\n",
    "\n",
    "    raw_partitions = partition_sliding_window(data_raw['echo'], (4096, 4096), (4096, 4096))\n",
    "    print('Number of Raw partitions: ', len(raw_partitions))\n",
    "    \n",
    "    # Resize datasets to accommodate new data\n",
    "    raw_ds.resize((raw_ds.shape[0] + len(raw_partitions), 4096, 4096))\n",
    "    focus_ds.resize((focus_ds.shape[0] + len(focus_partitions), 4096, 4096))\n",
    "    \n",
    "    # Append the data\n",
    "    raw_ds[-len(raw_partitions):] = raw_partitions\n",
    "    focus_ds[-len(focus_partitions):] = focus_partitions\n"
   ]
  },
  {
   "cell_type": "code",
   "execution_count": 4,
   "metadata": {},
   "outputs": [
    {
     "name": "stdout",
     "output_type": "stream",
     "text": [
      "38G\tR2F.zarr\n"
     ]
    }
   ],
   "source": [
    "!du -sh R2F.zarr # Show the size of the dataset"
   ]
  }
 ],
 "metadata": {
  "kernelspec": {
   "display_name": "py311",
   "language": "python",
   "name": "python3"
  },
  "language_info": {
   "codemirror_mode": {
    "name": "ipython",
    "version": 3
   },
   "file_extension": ".py",
   "mimetype": "text/x-python",
   "name": "python",
   "nbconvert_exporter": "python",
   "pygments_lexer": "ipython3",
   "version": "3.11.6"
  }
 },
 "nbformat": 4,
 "nbformat_minor": 2
}
